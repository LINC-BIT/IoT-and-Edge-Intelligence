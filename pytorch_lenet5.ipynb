{
  "nbformat": 4,
  "nbformat_minor": 0,
  "metadata": {
    "colab": {
      "name": "pytorch-lenet5.ipynb",
      "provenance": [],
      "collapsed_sections": []
    },
    "kernelspec": {
      "name": "python3",
      "display_name": "Python 3"
    },
    "widgets": {
      "application/vnd.jupyter.widget-state+json": {
        "a289dd5e12ed4991b27d1b32c21edc1b": {
          "model_module": "@jupyter-widgets/controls",
          "model_name": "HBoxModel",
          "state": {
            "_view_name": "HBoxView",
            "_dom_classes": [],
            "_model_name": "HBoxModel",
            "_view_module": "@jupyter-widgets/controls",
            "_model_module_version": "1.5.0",
            "_view_count": null,
            "_view_module_version": "1.5.0",
            "box_style": "",
            "layout": "IPY_MODEL_02310cfe10d640e09abdd49f727d7bff",
            "_model_module": "@jupyter-widgets/controls",
            "children": [
              "IPY_MODEL_9a191eb34b32420bad82dbbcbebe367c",
              "IPY_MODEL_7b6d4fa865224d359b46085500fd478f"
            ]
          }
        },
        "02310cfe10d640e09abdd49f727d7bff": {
          "model_module": "@jupyter-widgets/base",
          "model_name": "LayoutModel",
          "state": {
            "_view_name": "LayoutView",
            "grid_template_rows": null,
            "right": null,
            "justify_content": null,
            "_view_module": "@jupyter-widgets/base",
            "overflow": null,
            "_model_module_version": "1.2.0",
            "_view_count": null,
            "flex_flow": null,
            "width": null,
            "min_width": null,
            "border": null,
            "align_items": null,
            "bottom": null,
            "_model_module": "@jupyter-widgets/base",
            "top": null,
            "grid_column": null,
            "overflow_y": null,
            "overflow_x": null,
            "grid_auto_flow": null,
            "grid_area": null,
            "grid_template_columns": null,
            "flex": null,
            "_model_name": "LayoutModel",
            "justify_items": null,
            "grid_row": null,
            "max_height": null,
            "align_content": null,
            "visibility": null,
            "align_self": null,
            "height": null,
            "min_height": null,
            "padding": null,
            "grid_auto_rows": null,
            "grid_gap": null,
            "max_width": null,
            "order": null,
            "_view_module_version": "1.2.0",
            "grid_template_areas": null,
            "object_position": null,
            "object_fit": null,
            "grid_auto_columns": null,
            "margin": null,
            "display": null,
            "left": null
          }
        },
        "9a191eb34b32420bad82dbbcbebe367c": {
          "model_module": "@jupyter-widgets/controls",
          "model_name": "FloatProgressModel",
          "state": {
            "_view_name": "ProgressView",
            "style": "IPY_MODEL_935e7e45d9954f44b26e4fbc2d13602a",
            "_dom_classes": [],
            "description": "",
            "_model_name": "FloatProgressModel",
            "bar_style": "info",
            "max": 1,
            "_view_module": "@jupyter-widgets/controls",
            "_model_module_version": "1.5.0",
            "value": 1,
            "_view_count": null,
            "_view_module_version": "1.5.0",
            "orientation": "horizontal",
            "min": 0,
            "description_tooltip": null,
            "_model_module": "@jupyter-widgets/controls",
            "layout": "IPY_MODEL_7cf6684c1c9942999d1f77f02bc358ab"
          }
        },
        "7b6d4fa865224d359b46085500fd478f": {
          "model_module": "@jupyter-widgets/controls",
          "model_name": "HTMLModel",
          "state": {
            "_view_name": "HTMLView",
            "style": "IPY_MODEL_92646156bfa8477ca2845119ddf53ea3",
            "_dom_classes": [],
            "description": "",
            "_model_name": "HTMLModel",
            "placeholder": "​",
            "_view_module": "@jupyter-widgets/controls",
            "_model_module_version": "1.5.0",
            "value": " 9920512/? [00:20&lt;00:00, 5280212.18it/s]",
            "_view_count": null,
            "_view_module_version": "1.5.0",
            "description_tooltip": null,
            "_model_module": "@jupyter-widgets/controls",
            "layout": "IPY_MODEL_9f018767a2d246dc83a145f1fd0df3be"
          }
        },
        "935e7e45d9954f44b26e4fbc2d13602a": {
          "model_module": "@jupyter-widgets/controls",
          "model_name": "ProgressStyleModel",
          "state": {
            "_view_name": "StyleView",
            "_model_name": "ProgressStyleModel",
            "description_width": "initial",
            "_view_module": "@jupyter-widgets/base",
            "_model_module_version": "1.5.0",
            "_view_count": null,
            "_view_module_version": "1.2.0",
            "bar_color": null,
            "_model_module": "@jupyter-widgets/controls"
          }
        },
        "7cf6684c1c9942999d1f77f02bc358ab": {
          "model_module": "@jupyter-widgets/base",
          "model_name": "LayoutModel",
          "state": {
            "_view_name": "LayoutView",
            "grid_template_rows": null,
            "right": null,
            "justify_content": null,
            "_view_module": "@jupyter-widgets/base",
            "overflow": null,
            "_model_module_version": "1.2.0",
            "_view_count": null,
            "flex_flow": null,
            "width": null,
            "min_width": null,
            "border": null,
            "align_items": null,
            "bottom": null,
            "_model_module": "@jupyter-widgets/base",
            "top": null,
            "grid_column": null,
            "overflow_y": null,
            "overflow_x": null,
            "grid_auto_flow": null,
            "grid_area": null,
            "grid_template_columns": null,
            "flex": null,
            "_model_name": "LayoutModel",
            "justify_items": null,
            "grid_row": null,
            "max_height": null,
            "align_content": null,
            "visibility": null,
            "align_self": null,
            "height": null,
            "min_height": null,
            "padding": null,
            "grid_auto_rows": null,
            "grid_gap": null,
            "max_width": null,
            "order": null,
            "_view_module_version": "1.2.0",
            "grid_template_areas": null,
            "object_position": null,
            "object_fit": null,
            "grid_auto_columns": null,
            "margin": null,
            "display": null,
            "left": null
          }
        },
        "92646156bfa8477ca2845119ddf53ea3": {
          "model_module": "@jupyter-widgets/controls",
          "model_name": "DescriptionStyleModel",
          "state": {
            "_view_name": "StyleView",
            "_model_name": "DescriptionStyleModel",
            "description_width": "",
            "_view_module": "@jupyter-widgets/base",
            "_model_module_version": "1.5.0",
            "_view_count": null,
            "_view_module_version": "1.2.0",
            "_model_module": "@jupyter-widgets/controls"
          }
        },
        "9f018767a2d246dc83a145f1fd0df3be": {
          "model_module": "@jupyter-widgets/base",
          "model_name": "LayoutModel",
          "state": {
            "_view_name": "LayoutView",
            "grid_template_rows": null,
            "right": null,
            "justify_content": null,
            "_view_module": "@jupyter-widgets/base",
            "overflow": null,
            "_model_module_version": "1.2.0",
            "_view_count": null,
            "flex_flow": null,
            "width": null,
            "min_width": null,
            "border": null,
            "align_items": null,
            "bottom": null,
            "_model_module": "@jupyter-widgets/base",
            "top": null,
            "grid_column": null,
            "overflow_y": null,
            "overflow_x": null,
            "grid_auto_flow": null,
            "grid_area": null,
            "grid_template_columns": null,
            "flex": null,
            "_model_name": "LayoutModel",
            "justify_items": null,
            "grid_row": null,
            "max_height": null,
            "align_content": null,
            "visibility": null,
            "align_self": null,
            "height": null,
            "min_height": null,
            "padding": null,
            "grid_auto_rows": null,
            "grid_gap": null,
            "max_width": null,
            "order": null,
            "_view_module_version": "1.2.0",
            "grid_template_areas": null,
            "object_position": null,
            "object_fit": null,
            "grid_auto_columns": null,
            "margin": null,
            "display": null,
            "left": null
          }
        },
        "d48d1fc327b64ed6afd576a2cb073de6": {
          "model_module": "@jupyter-widgets/controls",
          "model_name": "HBoxModel",
          "state": {
            "_view_name": "HBoxView",
            "_dom_classes": [],
            "_model_name": "HBoxModel",
            "_view_module": "@jupyter-widgets/controls",
            "_model_module_version": "1.5.0",
            "_view_count": null,
            "_view_module_version": "1.5.0",
            "box_style": "",
            "layout": "IPY_MODEL_0c1c8542a9e4459bb33bb53ef8375f1e",
            "_model_module": "@jupyter-widgets/controls",
            "children": [
              "IPY_MODEL_e4557e67543e4b2aafb08e681d1de047",
              "IPY_MODEL_a1a1bf8b6d034ee89f34d35c9abe2028"
            ]
          }
        },
        "0c1c8542a9e4459bb33bb53ef8375f1e": {
          "model_module": "@jupyter-widgets/base",
          "model_name": "LayoutModel",
          "state": {
            "_view_name": "LayoutView",
            "grid_template_rows": null,
            "right": null,
            "justify_content": null,
            "_view_module": "@jupyter-widgets/base",
            "overflow": null,
            "_model_module_version": "1.2.0",
            "_view_count": null,
            "flex_flow": null,
            "width": null,
            "min_width": null,
            "border": null,
            "align_items": null,
            "bottom": null,
            "_model_module": "@jupyter-widgets/base",
            "top": null,
            "grid_column": null,
            "overflow_y": null,
            "overflow_x": null,
            "grid_auto_flow": null,
            "grid_area": null,
            "grid_template_columns": null,
            "flex": null,
            "_model_name": "LayoutModel",
            "justify_items": null,
            "grid_row": null,
            "max_height": null,
            "align_content": null,
            "visibility": null,
            "align_self": null,
            "height": null,
            "min_height": null,
            "padding": null,
            "grid_auto_rows": null,
            "grid_gap": null,
            "max_width": null,
            "order": null,
            "_view_module_version": "1.2.0",
            "grid_template_areas": null,
            "object_position": null,
            "object_fit": null,
            "grid_auto_columns": null,
            "margin": null,
            "display": null,
            "left": null
          }
        },
        "e4557e67543e4b2aafb08e681d1de047": {
          "model_module": "@jupyter-widgets/controls",
          "model_name": "FloatProgressModel",
          "state": {
            "_view_name": "ProgressView",
            "style": "IPY_MODEL_8295b658b8a740a78eb602b9c4322509",
            "_dom_classes": [],
            "description": "",
            "_model_name": "FloatProgressModel",
            "bar_style": "success",
            "max": 1,
            "_view_module": "@jupyter-widgets/controls",
            "_model_module_version": "1.5.0",
            "value": 1,
            "_view_count": null,
            "_view_module_version": "1.5.0",
            "orientation": "horizontal",
            "min": 0,
            "description_tooltip": null,
            "_model_module": "@jupyter-widgets/controls",
            "layout": "IPY_MODEL_1df97b2ff06a4313acf24c4bb740905f"
          }
        },
        "a1a1bf8b6d034ee89f34d35c9abe2028": {
          "model_module": "@jupyter-widgets/controls",
          "model_name": "HTMLModel",
          "state": {
            "_view_name": "HTMLView",
            "style": "IPY_MODEL_86af4def9e494450984f83af2b7dea9b",
            "_dom_classes": [],
            "description": "",
            "_model_name": "HTMLModel",
            "placeholder": "​",
            "_view_module": "@jupyter-widgets/controls",
            "_model_module_version": "1.5.0",
            "value": " 32768/? [00:00&lt;00:00, 304092.70it/s]",
            "_view_count": null,
            "_view_module_version": "1.5.0",
            "description_tooltip": null,
            "_model_module": "@jupyter-widgets/controls",
            "layout": "IPY_MODEL_2f4eaf59df5e4adb954d7f44bb0304c8"
          }
        },
        "8295b658b8a740a78eb602b9c4322509": {
          "model_module": "@jupyter-widgets/controls",
          "model_name": "ProgressStyleModel",
          "state": {
            "_view_name": "StyleView",
            "_model_name": "ProgressStyleModel",
            "description_width": "initial",
            "_view_module": "@jupyter-widgets/base",
            "_model_module_version": "1.5.0",
            "_view_count": null,
            "_view_module_version": "1.2.0",
            "bar_color": null,
            "_model_module": "@jupyter-widgets/controls"
          }
        },
        "1df97b2ff06a4313acf24c4bb740905f": {
          "model_module": "@jupyter-widgets/base",
          "model_name": "LayoutModel",
          "state": {
            "_view_name": "LayoutView",
            "grid_template_rows": null,
            "right": null,
            "justify_content": null,
            "_view_module": "@jupyter-widgets/base",
            "overflow": null,
            "_model_module_version": "1.2.0",
            "_view_count": null,
            "flex_flow": null,
            "width": null,
            "min_width": null,
            "border": null,
            "align_items": null,
            "bottom": null,
            "_model_module": "@jupyter-widgets/base",
            "top": null,
            "grid_column": null,
            "overflow_y": null,
            "overflow_x": null,
            "grid_auto_flow": null,
            "grid_area": null,
            "grid_template_columns": null,
            "flex": null,
            "_model_name": "LayoutModel",
            "justify_items": null,
            "grid_row": null,
            "max_height": null,
            "align_content": null,
            "visibility": null,
            "align_self": null,
            "height": null,
            "min_height": null,
            "padding": null,
            "grid_auto_rows": null,
            "grid_gap": null,
            "max_width": null,
            "order": null,
            "_view_module_version": "1.2.0",
            "grid_template_areas": null,
            "object_position": null,
            "object_fit": null,
            "grid_auto_columns": null,
            "margin": null,
            "display": null,
            "left": null
          }
        },
        "86af4def9e494450984f83af2b7dea9b": {
          "model_module": "@jupyter-widgets/controls",
          "model_name": "DescriptionStyleModel",
          "state": {
            "_view_name": "StyleView",
            "_model_name": "DescriptionStyleModel",
            "description_width": "",
            "_view_module": "@jupyter-widgets/base",
            "_model_module_version": "1.5.0",
            "_view_count": null,
            "_view_module_version": "1.2.0",
            "_model_module": "@jupyter-widgets/controls"
          }
        },
        "2f4eaf59df5e4adb954d7f44bb0304c8": {
          "model_module": "@jupyter-widgets/base",
          "model_name": "LayoutModel",
          "state": {
            "_view_name": "LayoutView",
            "grid_template_rows": null,
            "right": null,
            "justify_content": null,
            "_view_module": "@jupyter-widgets/base",
            "overflow": null,
            "_model_module_version": "1.2.0",
            "_view_count": null,
            "flex_flow": null,
            "width": null,
            "min_width": null,
            "border": null,
            "align_items": null,
            "bottom": null,
            "_model_module": "@jupyter-widgets/base",
            "top": null,
            "grid_column": null,
            "overflow_y": null,
            "overflow_x": null,
            "grid_auto_flow": null,
            "grid_area": null,
            "grid_template_columns": null,
            "flex": null,
            "_model_name": "LayoutModel",
            "justify_items": null,
            "grid_row": null,
            "max_height": null,
            "align_content": null,
            "visibility": null,
            "align_self": null,
            "height": null,
            "min_height": null,
            "padding": null,
            "grid_auto_rows": null,
            "grid_gap": null,
            "max_width": null,
            "order": null,
            "_view_module_version": "1.2.0",
            "grid_template_areas": null,
            "object_position": null,
            "object_fit": null,
            "grid_auto_columns": null,
            "margin": null,
            "display": null,
            "left": null
          }
        },
        "c9b0a659e8774c2b8c0b7f462c169bf9": {
          "model_module": "@jupyter-widgets/controls",
          "model_name": "HBoxModel",
          "state": {
            "_view_name": "HBoxView",
            "_dom_classes": [],
            "_model_name": "HBoxModel",
            "_view_module": "@jupyter-widgets/controls",
            "_model_module_version": "1.5.0",
            "_view_count": null,
            "_view_module_version": "1.5.0",
            "box_style": "",
            "layout": "IPY_MODEL_1386bd479ce84184ace64596cb7d4a23",
            "_model_module": "@jupyter-widgets/controls",
            "children": [
              "IPY_MODEL_89d5a49f4f7247158693c52639bab458",
              "IPY_MODEL_b9bda2faef98423d9e2b376324cf06c5"
            ]
          }
        },
        "1386bd479ce84184ace64596cb7d4a23": {
          "model_module": "@jupyter-widgets/base",
          "model_name": "LayoutModel",
          "state": {
            "_view_name": "LayoutView",
            "grid_template_rows": null,
            "right": null,
            "justify_content": null,
            "_view_module": "@jupyter-widgets/base",
            "overflow": null,
            "_model_module_version": "1.2.0",
            "_view_count": null,
            "flex_flow": null,
            "width": null,
            "min_width": null,
            "border": null,
            "align_items": null,
            "bottom": null,
            "_model_module": "@jupyter-widgets/base",
            "top": null,
            "grid_column": null,
            "overflow_y": null,
            "overflow_x": null,
            "grid_auto_flow": null,
            "grid_area": null,
            "grid_template_columns": null,
            "flex": null,
            "_model_name": "LayoutModel",
            "justify_items": null,
            "grid_row": null,
            "max_height": null,
            "align_content": null,
            "visibility": null,
            "align_self": null,
            "height": null,
            "min_height": null,
            "padding": null,
            "grid_auto_rows": null,
            "grid_gap": null,
            "max_width": null,
            "order": null,
            "_view_module_version": "1.2.0",
            "grid_template_areas": null,
            "object_position": null,
            "object_fit": null,
            "grid_auto_columns": null,
            "margin": null,
            "display": null,
            "left": null
          }
        },
        "89d5a49f4f7247158693c52639bab458": {
          "model_module": "@jupyter-widgets/controls",
          "model_name": "FloatProgressModel",
          "state": {
            "_view_name": "ProgressView",
            "style": "IPY_MODEL_2dcba30ce6874acbba87506c986759c4",
            "_dom_classes": [],
            "description": "",
            "_model_name": "FloatProgressModel",
            "bar_style": "info",
            "max": 1,
            "_view_module": "@jupyter-widgets/controls",
            "_model_module_version": "1.5.0",
            "value": 1,
            "_view_count": null,
            "_view_module_version": "1.5.0",
            "orientation": "horizontal",
            "min": 0,
            "description_tooltip": null,
            "_model_module": "@jupyter-widgets/controls",
            "layout": "IPY_MODEL_ce188d6b0d584f05a4d2458824019895"
          }
        },
        "b9bda2faef98423d9e2b376324cf06c5": {
          "model_module": "@jupyter-widgets/controls",
          "model_name": "HTMLModel",
          "state": {
            "_view_name": "HTMLView",
            "style": "IPY_MODEL_4928816df11a4122a5a13cf24fdcea3d",
            "_dom_classes": [],
            "description": "",
            "_model_name": "HTMLModel",
            "placeholder": "​",
            "_view_module": "@jupyter-widgets/controls",
            "_model_module_version": "1.5.0",
            "value": " 1654784/? [00:19&lt;00:00, 15480532.62it/s]",
            "_view_count": null,
            "_view_module_version": "1.5.0",
            "description_tooltip": null,
            "_model_module": "@jupyter-widgets/controls",
            "layout": "IPY_MODEL_6dac63278f9b4adb9732ecc7dc84eb7b"
          }
        },
        "2dcba30ce6874acbba87506c986759c4": {
          "model_module": "@jupyter-widgets/controls",
          "model_name": "ProgressStyleModel",
          "state": {
            "_view_name": "StyleView",
            "_model_name": "ProgressStyleModel",
            "description_width": "initial",
            "_view_module": "@jupyter-widgets/base",
            "_model_module_version": "1.5.0",
            "_view_count": null,
            "_view_module_version": "1.2.0",
            "bar_color": null,
            "_model_module": "@jupyter-widgets/controls"
          }
        },
        "ce188d6b0d584f05a4d2458824019895": {
          "model_module": "@jupyter-widgets/base",
          "model_name": "LayoutModel",
          "state": {
            "_view_name": "LayoutView",
            "grid_template_rows": null,
            "right": null,
            "justify_content": null,
            "_view_module": "@jupyter-widgets/base",
            "overflow": null,
            "_model_module_version": "1.2.0",
            "_view_count": null,
            "flex_flow": null,
            "width": null,
            "min_width": null,
            "border": null,
            "align_items": null,
            "bottom": null,
            "_model_module": "@jupyter-widgets/base",
            "top": null,
            "grid_column": null,
            "overflow_y": null,
            "overflow_x": null,
            "grid_auto_flow": null,
            "grid_area": null,
            "grid_template_columns": null,
            "flex": null,
            "_model_name": "LayoutModel",
            "justify_items": null,
            "grid_row": null,
            "max_height": null,
            "align_content": null,
            "visibility": null,
            "align_self": null,
            "height": null,
            "min_height": null,
            "padding": null,
            "grid_auto_rows": null,
            "grid_gap": null,
            "max_width": null,
            "order": null,
            "_view_module_version": "1.2.0",
            "grid_template_areas": null,
            "object_position": null,
            "object_fit": null,
            "grid_auto_columns": null,
            "margin": null,
            "display": null,
            "left": null
          }
        },
        "4928816df11a4122a5a13cf24fdcea3d": {
          "model_module": "@jupyter-widgets/controls",
          "model_name": "DescriptionStyleModel",
          "state": {
            "_view_name": "StyleView",
            "_model_name": "DescriptionStyleModel",
            "description_width": "",
            "_view_module": "@jupyter-widgets/base",
            "_model_module_version": "1.5.0",
            "_view_count": null,
            "_view_module_version": "1.2.0",
            "_model_module": "@jupyter-widgets/controls"
          }
        },
        "6dac63278f9b4adb9732ecc7dc84eb7b": {
          "model_module": "@jupyter-widgets/base",
          "model_name": "LayoutModel",
          "state": {
            "_view_name": "LayoutView",
            "grid_template_rows": null,
            "right": null,
            "justify_content": null,
            "_view_module": "@jupyter-widgets/base",
            "overflow": null,
            "_model_module_version": "1.2.0",
            "_view_count": null,
            "flex_flow": null,
            "width": null,
            "min_width": null,
            "border": null,
            "align_items": null,
            "bottom": null,
            "_model_module": "@jupyter-widgets/base",
            "top": null,
            "grid_column": null,
            "overflow_y": null,
            "overflow_x": null,
            "grid_auto_flow": null,
            "grid_area": null,
            "grid_template_columns": null,
            "flex": null,
            "_model_name": "LayoutModel",
            "justify_items": null,
            "grid_row": null,
            "max_height": null,
            "align_content": null,
            "visibility": null,
            "align_self": null,
            "height": null,
            "min_height": null,
            "padding": null,
            "grid_auto_rows": null,
            "grid_gap": null,
            "max_width": null,
            "order": null,
            "_view_module_version": "1.2.0",
            "grid_template_areas": null,
            "object_position": null,
            "object_fit": null,
            "grid_auto_columns": null,
            "margin": null,
            "display": null,
            "left": null
          }
        },
        "77f63401c685407a880041a99acae267": {
          "model_module": "@jupyter-widgets/controls",
          "model_name": "HBoxModel",
          "state": {
            "_view_name": "HBoxView",
            "_dom_classes": [],
            "_model_name": "HBoxModel",
            "_view_module": "@jupyter-widgets/controls",
            "_model_module_version": "1.5.0",
            "_view_count": null,
            "_view_module_version": "1.5.0",
            "box_style": "",
            "layout": "IPY_MODEL_42d7ad1d20484878b891054db6d9f41e",
            "_model_module": "@jupyter-widgets/controls",
            "children": [
              "IPY_MODEL_597801907d2946349e8483e89fa14305",
              "IPY_MODEL_9b7d119add6748fa97adf852f9cdfd93"
            ]
          }
        },
        "42d7ad1d20484878b891054db6d9f41e": {
          "model_module": "@jupyter-widgets/base",
          "model_name": "LayoutModel",
          "state": {
            "_view_name": "LayoutView",
            "grid_template_rows": null,
            "right": null,
            "justify_content": null,
            "_view_module": "@jupyter-widgets/base",
            "overflow": null,
            "_model_module_version": "1.2.0",
            "_view_count": null,
            "flex_flow": null,
            "width": null,
            "min_width": null,
            "border": null,
            "align_items": null,
            "bottom": null,
            "_model_module": "@jupyter-widgets/base",
            "top": null,
            "grid_column": null,
            "overflow_y": null,
            "overflow_x": null,
            "grid_auto_flow": null,
            "grid_area": null,
            "grid_template_columns": null,
            "flex": null,
            "_model_name": "LayoutModel",
            "justify_items": null,
            "grid_row": null,
            "max_height": null,
            "align_content": null,
            "visibility": null,
            "align_self": null,
            "height": null,
            "min_height": null,
            "padding": null,
            "grid_auto_rows": null,
            "grid_gap": null,
            "max_width": null,
            "order": null,
            "_view_module_version": "1.2.0",
            "grid_template_areas": null,
            "object_position": null,
            "object_fit": null,
            "grid_auto_columns": null,
            "margin": null,
            "display": null,
            "left": null
          }
        },
        "597801907d2946349e8483e89fa14305": {
          "model_module": "@jupyter-widgets/controls",
          "model_name": "FloatProgressModel",
          "state": {
            "_view_name": "ProgressView",
            "style": "IPY_MODEL_265e56b5b249401e86e49c5dad75cd80",
            "_dom_classes": [],
            "description": "",
            "_model_name": "FloatProgressModel",
            "bar_style": "info",
            "max": 1,
            "_view_module": "@jupyter-widgets/controls",
            "_model_module_version": "1.5.0",
            "value": 0,
            "_view_count": null,
            "_view_module_version": "1.5.0",
            "orientation": "horizontal",
            "min": 0,
            "description_tooltip": null,
            "_model_module": "@jupyter-widgets/controls",
            "layout": "IPY_MODEL_e1d9f15dc32a43d18ba427aae1d4bf4f"
          }
        },
        "9b7d119add6748fa97adf852f9cdfd93": {
          "model_module": "@jupyter-widgets/controls",
          "model_name": "HTMLModel",
          "state": {
            "_view_name": "HTMLView",
            "style": "IPY_MODEL_499affcd709b40bdaf08465ebc028d1f",
            "_dom_classes": [],
            "description": "",
            "_model_name": "HTMLModel",
            "placeholder": "​",
            "_view_module": "@jupyter-widgets/controls",
            "_model_module_version": "1.5.0",
            "value": " 0/? [00:00&lt;?, ?it/s]",
            "_view_count": null,
            "_view_module_version": "1.5.0",
            "description_tooltip": null,
            "_model_module": "@jupyter-widgets/controls",
            "layout": "IPY_MODEL_45e876b8e6d94a1d951c7bcc28534bc7"
          }
        },
        "265e56b5b249401e86e49c5dad75cd80": {
          "model_module": "@jupyter-widgets/controls",
          "model_name": "ProgressStyleModel",
          "state": {
            "_view_name": "StyleView",
            "_model_name": "ProgressStyleModel",
            "description_width": "initial",
            "_view_module": "@jupyter-widgets/base",
            "_model_module_version": "1.5.0",
            "_view_count": null,
            "_view_module_version": "1.2.0",
            "bar_color": null,
            "_model_module": "@jupyter-widgets/controls"
          }
        },
        "e1d9f15dc32a43d18ba427aae1d4bf4f": {
          "model_module": "@jupyter-widgets/base",
          "model_name": "LayoutModel",
          "state": {
            "_view_name": "LayoutView",
            "grid_template_rows": null,
            "right": null,
            "justify_content": null,
            "_view_module": "@jupyter-widgets/base",
            "overflow": null,
            "_model_module_version": "1.2.0",
            "_view_count": null,
            "flex_flow": null,
            "width": null,
            "min_width": null,
            "border": null,
            "align_items": null,
            "bottom": null,
            "_model_module": "@jupyter-widgets/base",
            "top": null,
            "grid_column": null,
            "overflow_y": null,
            "overflow_x": null,
            "grid_auto_flow": null,
            "grid_area": null,
            "grid_template_columns": null,
            "flex": null,
            "_model_name": "LayoutModel",
            "justify_items": null,
            "grid_row": null,
            "max_height": null,
            "align_content": null,
            "visibility": null,
            "align_self": null,
            "height": null,
            "min_height": null,
            "padding": null,
            "grid_auto_rows": null,
            "grid_gap": null,
            "max_width": null,
            "order": null,
            "_view_module_version": "1.2.0",
            "grid_template_areas": null,
            "object_position": null,
            "object_fit": null,
            "grid_auto_columns": null,
            "margin": null,
            "display": null,
            "left": null
          }
        },
        "499affcd709b40bdaf08465ebc028d1f": {
          "model_module": "@jupyter-widgets/controls",
          "model_name": "DescriptionStyleModel",
          "state": {
            "_view_name": "StyleView",
            "_model_name": "DescriptionStyleModel",
            "description_width": "",
            "_view_module": "@jupyter-widgets/base",
            "_model_module_version": "1.5.0",
            "_view_count": null,
            "_view_module_version": "1.2.0",
            "_model_module": "@jupyter-widgets/controls"
          }
        },
        "45e876b8e6d94a1d951c7bcc28534bc7": {
          "model_module": "@jupyter-widgets/base",
          "model_name": "LayoutModel",
          "state": {
            "_view_name": "LayoutView",
            "grid_template_rows": null,
            "right": null,
            "justify_content": null,
            "_view_module": "@jupyter-widgets/base",
            "overflow": null,
            "_model_module_version": "1.2.0",
            "_view_count": null,
            "flex_flow": null,
            "width": null,
            "min_width": null,
            "border": null,
            "align_items": null,
            "bottom": null,
            "_model_module": "@jupyter-widgets/base",
            "top": null,
            "grid_column": null,
            "overflow_y": null,
            "overflow_x": null,
            "grid_auto_flow": null,
            "grid_area": null,
            "grid_template_columns": null,
            "flex": null,
            "_model_name": "LayoutModel",
            "justify_items": null,
            "grid_row": null,
            "max_height": null,
            "align_content": null,
            "visibility": null,
            "align_self": null,
            "height": null,
            "min_height": null,
            "padding": null,
            "grid_auto_rows": null,
            "grid_gap": null,
            "max_width": null,
            "order": null,
            "_view_module_version": "1.2.0",
            "grid_template_areas": null,
            "object_position": null,
            "object_fit": null,
            "grid_auto_columns": null,
            "margin": null,
            "display": null,
            "left": null
          }
        }
      }
    }
  },
  "cells": [
    {
      "cell_type": "code",
      "metadata": {
        "id": "z6DFfSZj1ejo"
      },
      "source": [
        "# 导入必要的包\n",
        "import torch\n",
        "import torch.nn as nn\n",
        "import torch.functional as F\n",
        "import torchvision\n",
        "import torchvision.transforms as transforms\n",
        "import torch.optim as optim\n",
        "#import visdom"
      ],
      "execution_count": 1,
      "outputs": []
    },
    {
      "cell_type": "code",
      "metadata": {
        "colab": {
          "base_uri": "https://localhost:8080/"
        },
        "id": "JqxKMvTh76nA",
        "outputId": "b68e7893-8ca2-4081-e28a-4ddc8d109e83"
      },
      "source": [
        "# 预置一些必要的（超）参数\n",
        "BATCHSIZE = 128 # 批量大小\n",
        "LR = 0.02       # 学习率\n",
        "EPOCH = 10      # 迭代整个训练集的次数\n",
        "INTERVAL = 100  # 输出训练过程中间信息（损失值）的间隔\n",
        "\n",
        "# 选择使用GPU设备，如果有的话\n",
        "device = torch.device(\n",
        "    \"cuda:0\") if torch.cuda.is_available() else torch.device(\"cpu\")\n",
        "\n",
        "print(device)"
      ],
      "execution_count": 2,
      "outputs": [
        {
          "output_type": "stream",
          "text": [
            "cpu\n"
          ],
          "name": "stdout"
        }
      ]
    },
    {
      "cell_type": "code",
      "metadata": {
        "colab": {
          "base_uri": "https://localhost:8080/"
        },
        "id": "6KJAvW-jqUJi",
        "outputId": "8f33d40a-9adc-4780-fa7b-5e72bdee5488"
      },
      "source": [
        "# 定义LeNet5 网络模型\n",
        "class LeNet5(nn.Module):\n",
        "    def __init__(self):\n",
        "        super(LeNet5, self).__init__()\n",
        "        self.features = nn.Sequential(\n",
        "            nn.Conv2d(1, 6, 5), # 32x32x1 -> 28x28x6\n",
        "            nn.ReLU(True),\n",
        "            nn.MaxPool2d(2, 2), # 28x28x6 -> 14x14x6\n",
        "            nn.Conv2d(6, 16, 5), # 14x14x6 -> 10x10x16\n",
        "            nn.ReLU(True),\n",
        "            nn.MaxPool2d(2, 2), # 10x10x16 -> 5x5x16\n",
        "            #nn.Conv2d(16, 120, 5) # 5x5x16 -> 1x1x120\n",
        "        )\n",
        "        self.classifier = nn.Sequential(\n",
        "            nn.Linear(5*5*16, 120),\n",
        "            nn.ReLU(True),\n",
        "            nn.Linear(120, 84),\n",
        "            nn.ReLU(True),\n",
        "            nn.Linear(84, 10)\n",
        "        )\n",
        "\n",
        "    def forward(self, x):\n",
        "        x = self.features(x)\n",
        "        x = x.view(-1, 5 * 5 * 16)\n",
        "        x = self.classifier(x)\n",
        "        return x\n",
        "\n",
        "# 需要训练的模型\n",
        "net = LeNet5()\n",
        "net.to(device) # 将模型移动到对应的设备上(CPU or GPU)"
      ],
      "execution_count": 3,
      "outputs": [
        {
          "output_type": "execute_result",
          "data": {
            "text/plain": [
              "LeNet5(\n",
              "  (features): Sequential(\n",
              "    (0): Conv2d(1, 6, kernel_size=(5, 5), stride=(1, 1))\n",
              "    (1): ReLU(inplace=True)\n",
              "    (2): MaxPool2d(kernel_size=2, stride=2, padding=0, dilation=1, ceil_mode=False)\n",
              "    (3): Conv2d(6, 16, kernel_size=(5, 5), stride=(1, 1))\n",
              "    (4): ReLU(inplace=True)\n",
              "    (5): MaxPool2d(kernel_size=2, stride=2, padding=0, dilation=1, ceil_mode=False)\n",
              "  )\n",
              "  (classifier): Sequential(\n",
              "    (0): Linear(in_features=400, out_features=120, bias=True)\n",
              "    (1): ReLU(inplace=True)\n",
              "    (2): Linear(in_features=120, out_features=84, bias=True)\n",
              "    (3): ReLU(inplace=True)\n",
              "    (4): Linear(in_features=84, out_features=10, bias=True)\n",
              "  )\n",
              ")"
            ]
          },
          "metadata": {
            "tags": []
          },
          "execution_count": 3
        }
      ]
    },
    {
      "cell_type": "code",
      "metadata": {
        "colab": {
          "base_uri": "https://localhost:8080/",
          "height": 386,
          "referenced_widgets": [
            "a289dd5e12ed4991b27d1b32c21edc1b",
            "02310cfe10d640e09abdd49f727d7bff",
            "9a191eb34b32420bad82dbbcbebe367c",
            "7b6d4fa865224d359b46085500fd478f",
            "935e7e45d9954f44b26e4fbc2d13602a",
            "7cf6684c1c9942999d1f77f02bc358ab",
            "92646156bfa8477ca2845119ddf53ea3",
            "9f018767a2d246dc83a145f1fd0df3be",
            "d48d1fc327b64ed6afd576a2cb073de6",
            "0c1c8542a9e4459bb33bb53ef8375f1e",
            "e4557e67543e4b2aafb08e681d1de047",
            "a1a1bf8b6d034ee89f34d35c9abe2028",
            "8295b658b8a740a78eb602b9c4322509",
            "1df97b2ff06a4313acf24c4bb740905f",
            "86af4def9e494450984f83af2b7dea9b",
            "2f4eaf59df5e4adb954d7f44bb0304c8",
            "c9b0a659e8774c2b8c0b7f462c169bf9",
            "1386bd479ce84184ace64596cb7d4a23",
            "89d5a49f4f7247158693c52639bab458",
            "b9bda2faef98423d9e2b376324cf06c5",
            "2dcba30ce6874acbba87506c986759c4",
            "ce188d6b0d584f05a4d2458824019895",
            "4928816df11a4122a5a13cf24fdcea3d",
            "6dac63278f9b4adb9732ecc7dc84eb7b",
            "77f63401c685407a880041a99acae267",
            "42d7ad1d20484878b891054db6d9f41e",
            "597801907d2946349e8483e89fa14305",
            "9b7d119add6748fa97adf852f9cdfd93",
            "265e56b5b249401e86e49c5dad75cd80",
            "e1d9f15dc32a43d18ba427aae1d4bf4f",
            "499affcd709b40bdaf08465ebc028d1f",
            "45e876b8e6d94a1d951c7bcc28534bc7"
          ]
        },
        "id": "G6q390QI7LQn",
        "outputId": "f51870e4-75f1-42fc-cc05-d4d0276141ca"
      },
      "source": [
        "# 加载并标准化MNIST数据集\n",
        "# 如果本地不存在MNIST数据集，那么程序将自动从网络上下载\n",
        "# transforms\n",
        "transform = transforms.Compose(\n",
        "    [transforms.Resize((32, 32)),\n",
        "     transforms.ToTensor(),\n",
        "    transforms.Normalize((0.5,), (0.5,))])\n",
        "\n",
        "# datasets, download MNIST if download is True\n",
        "trainset = torchvision.datasets.MNIST('./data',\n",
        "    download=True,\n",
        "    train=True,\n",
        "    transform=transform)\n",
        "testset = torchvision.datasets.MNIST('./data',\n",
        "    download=True,\n",
        "    train=False,\n",
        "    transform=transform)\n",
        "\n",
        "# dataloaders\n",
        "trainloader = torch.utils.data.DataLoader(trainset, batch_size=BATCHSIZE,\n",
        "                                        shuffle=True, num_workers=2)\n",
        "testloader = torch.utils.data.DataLoader(testset, batch_size=BATCHSIZE,\n",
        "                                        shuffle=False, num_workers=2)\n"
      ],
      "execution_count": 4,
      "outputs": [
        {
          "output_type": "stream",
          "text": [
            "Downloading http://yann.lecun.com/exdb/mnist/train-images-idx3-ubyte.gz to ./data/MNIST/raw/train-images-idx3-ubyte.gz\n"
          ],
          "name": "stdout"
        },
        {
          "output_type": "display_data",
          "data": {
            "application/vnd.jupyter.widget-view+json": {
              "model_id": "a289dd5e12ed4991b27d1b32c21edc1b",
              "version_minor": 0,
              "version_major": 2
            },
            "text/plain": [
              "HBox(children=(FloatProgress(value=1.0, bar_style='info', max=1.0), HTML(value='')))"
            ]
          },
          "metadata": {
            "tags": []
          }
        },
        {
          "output_type": "stream",
          "text": [
            "Extracting ./data/MNIST/raw/train-images-idx3-ubyte.gz to ./data/MNIST/raw\n",
            "Downloading http://yann.lecun.com/exdb/mnist/train-labels-idx1-ubyte.gz to ./data/MNIST/raw/train-labels-idx1-ubyte.gz\n"
          ],
          "name": "stdout"
        },
        {
          "output_type": "display_data",
          "data": {
            "application/vnd.jupyter.widget-view+json": {
              "model_id": "d48d1fc327b64ed6afd576a2cb073de6",
              "version_minor": 0,
              "version_major": 2
            },
            "text/plain": [
              "HBox(children=(FloatProgress(value=1.0, bar_style='info', max=1.0), HTML(value='')))"
            ]
          },
          "metadata": {
            "tags": []
          }
        },
        {
          "output_type": "stream",
          "text": [
            "Extracting ./data/MNIST/raw/train-labels-idx1-ubyte.gz to ./data/MNIST/raw\n",
            "Downloading http://yann.lecun.com/exdb/mnist/t10k-images-idx3-ubyte.gz to ./data/MNIST/raw/t10k-images-idx3-ubyte.gz\n",
            "\n"
          ],
          "name": "stdout"
        },
        {
          "output_type": "display_data",
          "data": {
            "application/vnd.jupyter.widget-view+json": {
              "model_id": "c9b0a659e8774c2b8c0b7f462c169bf9",
              "version_minor": 0,
              "version_major": 2
            },
            "text/plain": [
              "HBox(children=(FloatProgress(value=1.0, bar_style='info', max=1.0), HTML(value='')))"
            ]
          },
          "metadata": {
            "tags": []
          }
        },
        {
          "output_type": "stream",
          "text": [
            "Extracting ./data/MNIST/raw/t10k-images-idx3-ubyte.gz to ./data/MNIST/raw\n",
            "Downloading http://yann.lecun.com/exdb/mnist/t10k-labels-idx1-ubyte.gz to ./data/MNIST/raw/t10k-labels-idx1-ubyte.gz\n"
          ],
          "name": "stdout"
        },
        {
          "output_type": "display_data",
          "data": {
            "application/vnd.jupyter.widget-view+json": {
              "model_id": "77f63401c685407a880041a99acae267",
              "version_minor": 0,
              "version_major": 2
            },
            "text/plain": [
              "HBox(children=(FloatProgress(value=1.0, bar_style='info', max=1.0), HTML(value='')))"
            ]
          },
          "metadata": {
            "tags": []
          }
        },
        {
          "output_type": "stream",
          "text": [
            "Extracting ./data/MNIST/raw/t10k-labels-idx1-ubyte.gz to ./data/MNIST/raw\n",
            "Processing...\n",
            "Done!\n"
          ],
          "name": "stdout"
        },
        {
          "output_type": "stream",
          "text": [
            "/usr/local/lib/python3.6/dist-packages/torchvision/datasets/mnist.py:480: UserWarning: The given NumPy array is not writeable, and PyTorch does not support non-writeable tensors. This means you can write to the underlying (supposedly non-writeable) NumPy array using the tensor. You may want to copy the array to protect its data or make it writeable before converting it to a tensor. This type of warning will be suppressed for the rest of this program. (Triggered internally at  /pytorch/torch/csrc/utils/tensor_numpy.cpp:141.)\n",
            "  return torch.from_numpy(parsed.astype(m[2], copy=False)).view(*s)\n"
          ],
          "name": "stderr"
        }
      ]
    },
    {
      "cell_type": "code",
      "metadata": {
        "id": "xhnOfzBv8IOf"
      },
      "source": [
        "# 定义损失函数和优化器。一个损失函数接受一对(output, target)作为输入，计算一个值来估计网络的输出和目标值相差多少。\n",
        "# 这里使用交叉熵损失函数，SGD作为优化器\n",
        "criterion = nn.CrossEntropyLoss()\n",
        "optimizer = optim.SGD(net.parameters(), lr=LR)"
      ],
      "execution_count": 5,
      "outputs": []
    },
    {
      "cell_type": "code",
      "metadata": {
        "id": "hoiOn8N-9pQO"
      },
      "source": [
        "\"\"\"\n",
        "完成一个Epoch的训练，即迭代训练一遍训练集\n",
        "\"\"\"\n",
        "def train(epoch):\n",
        "    net.train() # 将模型设置为train 模式\n",
        "    running_loss = 0.0\n",
        "    for i, (images, labels) in enumerate(trainloader):\n",
        "        images, labels = images.to(device), labels.to(device)\n",
        "        # 模型梯度值清零\n",
        "        optimizer.zero_grad()\n",
        "\n",
        "        # forward + backward + optimize\n",
        "        output = net(images)\n",
        "        loss = criterion(output, labels)\n",
        "\n",
        "        # 统计并输出训练loss\n",
        "        running_loss += loss.detach().cpu().item()\n",
        "        if (i+1) % INTERVAL == 0:\n",
        "            print('Train - [Epoch %d /Iteration %d] Loss: %f' % (epoch, i+1, running_loss/INTERVAL))\n",
        "            running_loss = 0.0\n",
        "\n",
        "        # forward and update model parameters\n",
        "        loss.backward()\n",
        "        optimizer.step()\n",
        "\n",
        "\"\"\"\n",
        "在测试集上对模型进行测试，输出 test loss 和准确率\n",
        "\"\"\"\n",
        "def test(epoch):\n",
        "    # 将模型设置为测试模式\n",
        "    net.eval()\n",
        "    total_correct = 0\n",
        "    avg_loss = 0.0\n",
        "    val_iteration = 0\n",
        "    for i, (images, labels) in enumerate(testloader):\n",
        "        images, labels = images.to(device), labels.to(device)\n",
        "        output = net(images)\n",
        "        avg_loss += criterion(output, labels).sum()\n",
        "        # 统计预测正确的样本个数\n",
        "        pred = output.detach().max(1)[1]\n",
        "        total_correct += pred.eq(labels.view_as(pred)).sum()\n",
        "        val_iteration += 1\n",
        "\n",
        "    avg_loss /= val_iteration\n",
        "    print('Test - [Epoch %d] Avg Loss: %f, Accuracy: %f %%' % (epoch, avg_loss.detach().cpu().item(), 100.0*float(total_correct) / len(testset)))"
      ],
      "execution_count": 6,
      "outputs": []
    },
    {
      "cell_type": "code",
      "metadata": {
        "colab": {
          "base_uri": "https://localhost:8080/"
        },
        "id": "4ihuLxBg-sH2",
        "outputId": "a7b730fe-2872-4484-b07f-f652bd531886"
      },
      "source": [
        "# loop over the dataset multiple times\n",
        "for epoch in range(EPOCH):\n",
        "  train(epoch+1)\n",
        "  test(epoch+1)"
      ],
      "execution_count": 7,
      "outputs": [
        {
          "output_type": "stream",
          "text": [
            "Train - [Epoch 1 /Iteration 100] Loss: 2.295071\n",
            "Train - [Epoch 1 /Iteration 200] Loss: 2.261444\n",
            "Train - [Epoch 1 /Iteration 300] Loss: 2.027999\n",
            "Train - [Epoch 1 /Iteration 400] Loss: 1.155399\n",
            "Test - [Epoch 1] Avg Loss: 0.520879, Accuracy: 84.280000 %\n",
            "Train - [Epoch 2 /Iteration 100] Loss: 0.452537\n",
            "Train - [Epoch 2 /Iteration 200] Loss: 0.304626\n",
            "Train - [Epoch 2 /Iteration 300] Loss: 0.241123\n",
            "Train - [Epoch 2 /Iteration 400] Loss: 0.213320\n",
            "Test - [Epoch 2] Avg Loss: 0.156939, Accuracy: 95.120000 %\n",
            "Train - [Epoch 3 /Iteration 100] Loss: 0.170911\n",
            "Train - [Epoch 3 /Iteration 200] Loss: 0.152231\n",
            "Train - [Epoch 3 /Iteration 300] Loss: 0.149747\n",
            "Train - [Epoch 3 /Iteration 400] Loss: 0.128738\n",
            "Test - [Epoch 3] Avg Loss: 0.105213, Accuracy: 96.690000 %\n",
            "Train - [Epoch 4 /Iteration 100] Loss: 0.118659\n",
            "Train - [Epoch 4 /Iteration 200] Loss: 0.116046\n",
            "Train - [Epoch 4 /Iteration 300] Loss: 0.108657\n",
            "Train - [Epoch 4 /Iteration 400] Loss: 0.104477\n",
            "Test - [Epoch 4] Avg Loss: 0.087813, Accuracy: 97.190000 %\n",
            "Train - [Epoch 5 /Iteration 100] Loss: 0.099965\n",
            "Train - [Epoch 5 /Iteration 200] Loss: 0.086683\n",
            "Train - [Epoch 5 /Iteration 300] Loss: 0.092032\n",
            "Train - [Epoch 5 /Iteration 400] Loss: 0.089453\n",
            "Test - [Epoch 5] Avg Loss: 0.068883, Accuracy: 97.710000 %\n",
            "Train - [Epoch 6 /Iteration 100] Loss: 0.087565\n",
            "Train - [Epoch 6 /Iteration 200] Loss: 0.080555\n",
            "Train - [Epoch 6 /Iteration 300] Loss: 0.081706\n",
            "Train - [Epoch 6 /Iteration 400] Loss: 0.073794\n",
            "Test - [Epoch 6] Avg Loss: 0.068499, Accuracy: 97.690000 %\n",
            "Train - [Epoch 7 /Iteration 100] Loss: 0.071711\n",
            "Train - [Epoch 7 /Iteration 200] Loss: 0.070889\n",
            "Train - [Epoch 7 /Iteration 300] Loss: 0.065875\n",
            "Train - [Epoch 7 /Iteration 400] Loss: 0.078004\n",
            "Test - [Epoch 7] Avg Loss: 0.066197, Accuracy: 97.760000 %\n",
            "Train - [Epoch 8 /Iteration 100] Loss: 0.063024\n",
            "Train - [Epoch 8 /Iteration 200] Loss: 0.066813\n",
            "Train - [Epoch 8 /Iteration 300] Loss: 0.062429\n",
            "Train - [Epoch 8 /Iteration 400] Loss: 0.062364\n",
            "Test - [Epoch 8] Avg Loss: 0.050736, Accuracy: 98.250000 %\n",
            "Train - [Epoch 9 /Iteration 100] Loss: 0.059291\n",
            "Train - [Epoch 9 /Iteration 200] Loss: 0.057749\n",
            "Train - [Epoch 9 /Iteration 300] Loss: 0.064181\n",
            "Train - [Epoch 9 /Iteration 400] Loss: 0.051622\n",
            "Test - [Epoch 9] Avg Loss: 0.062792, Accuracy: 97.820000 %\n",
            "Train - [Epoch 10 /Iteration 100] Loss: 0.056045\n",
            "Train - [Epoch 10 /Iteration 200] Loss: 0.055128\n",
            "Train - [Epoch 10 /Iteration 300] Loss: 0.053635\n",
            "Train - [Epoch 10 /Iteration 400] Loss: 0.054391\n",
            "Test - [Epoch 10] Avg Loss: 0.049618, Accuracy: 98.290000 %\n"
          ],
          "name": "stdout"
        }
      ]
    },
    {
      "cell_type": "code",
      "metadata": {
        "colab": {
          "base_uri": "https://localhost:8080/"
        },
        "id": "DgplIGQ8uQks",
        "outputId": "ee40db61-e1fd-4781-a56b-20ab9f918351"
      },
      "source": [
        "# 使用新的（超参数）训练一个新的LeNet5模型\n",
        "BATCHSIZE = 64 # 批量大小\n",
        "LR = 0.05       # 学习率\n",
        "EPOCH = 5      # 迭代整个训练集的次数\n",
        "INTERVAL = 200  # 输出训练过程中间信息（损失值）的间隔\n",
        "\n",
        "# 新的dataloaders\n",
        "trainloader = torch.utils.data.DataLoader(trainset, batch_size=BATCHSIZE,\n",
        "                                        shuffle=True, num_workers=2)\n",
        "testloader = torch.utils.data.DataLoader(testset, batch_size=BATCHSIZE,\n",
        "                                        shuffle=False, num_workers=2)\n",
        "\n",
        "# 新的训练模型\n",
        "net = LeNet5()\n",
        "net.to(device) # 将模型移动到对应的设备上(CPU or GPU)\n",
        "\n",
        "# 定义新的损失函数和优化器\n",
        "criterion = nn.CrossEntropyLoss()\n",
        "optimizer = optim.SGD(net.parameters(), lr=LR)\n",
        "\n",
        "# 训练和测试\n",
        "# loop over the dataset multiple times\n",
        "for epoch in range(EPOCH):\n",
        "  train(epoch+1)\n",
        "  test(epoch+1)"
      ],
      "execution_count": 8,
      "outputs": [
        {
          "output_type": "stream",
          "text": [
            "Train - [Epoch 1 /Iteration 200] Loss: 1.847450\n",
            "Train - [Epoch 1 /Iteration 400] Loss: 0.400124\n",
            "Train - [Epoch 1 /Iteration 600] Loss: 0.198089\n",
            "Train - [Epoch 1 /Iteration 800] Loss: 0.140987\n",
            "Test - [Epoch 1] Avg Loss: 0.105098, Accuracy: 96.620000 %\n",
            "Train - [Epoch 2 /Iteration 200] Loss: 0.104183\n",
            "Train - [Epoch 2 /Iteration 400] Loss: 0.085888\n",
            "Train - [Epoch 2 /Iteration 600] Loss: 0.082229\n",
            "Train - [Epoch 2 /Iteration 800] Loss: 0.079476\n",
            "Test - [Epoch 2] Avg Loss: 0.059780, Accuracy: 97.900000 %\n",
            "Train - [Epoch 3 /Iteration 200] Loss: 0.066094\n",
            "Train - [Epoch 3 /Iteration 400] Loss: 0.062402\n",
            "Train - [Epoch 3 /Iteration 600] Loss: 0.059802\n",
            "Train - [Epoch 3 /Iteration 800] Loss: 0.053924\n",
            "Test - [Epoch 3] Avg Loss: 0.048369, Accuracy: 98.420000 %\n",
            "Train - [Epoch 4 /Iteration 200] Loss: 0.052968\n",
            "Train - [Epoch 4 /Iteration 400] Loss: 0.045956\n",
            "Train - [Epoch 4 /Iteration 600] Loss: 0.048635\n",
            "Train - [Epoch 4 /Iteration 800] Loss: 0.046136\n",
            "Test - [Epoch 4] Avg Loss: 0.040025, Accuracy: 98.700000 %\n",
            "Train - [Epoch 5 /Iteration 200] Loss: 0.041963\n",
            "Train - [Epoch 5 /Iteration 400] Loss: 0.039666\n",
            "Train - [Epoch 5 /Iteration 600] Loss: 0.034698\n",
            "Train - [Epoch 5 /Iteration 800] Loss: 0.038775\n",
            "Test - [Epoch 5] Avg Loss: 0.031983, Accuracy: 98.980000 %\n"
          ],
          "name": "stdout"
        }
      ]
    }
  ]
}